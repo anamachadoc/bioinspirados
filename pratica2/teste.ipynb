{
 "cells": [
  {
   "cell_type": "code",
   "execution_count": 1,
   "id": "f87397ed",
   "metadata": {},
   "outputs": [],
   "source": [
    "from Individual import Individual"
   ]
  },
  {
   "cell_type": "code",
   "execution_count": 11,
   "id": "6674dc6b",
   "metadata": {},
   "outputs": [],
   "source": [
    "i = Individual([0.0, 0.0], **kwargs)"
   ]
  },
  {
   "cell_type": "code",
   "execution_count": 13,
   "id": "39fff903",
   "metadata": {},
   "outputs": [
    {
     "data": {
      "text/plain": [
       "0.0"
      ]
     },
     "execution_count": 13,
     "metadata": {},
     "output_type": "execute_result"
    }
   ],
   "source": [
    "round(i.get_fitness(), 4)"
   ]
  },
  {
   "cell_type": "code",
   "execution_count": 15,
   "id": "0d792926",
   "metadata": {},
   "outputs": [
    {
     "data": {
      "text/plain": [
       "99999.99999999999"
      ]
     },
     "execution_count": 15,
     "metadata": {},
     "output_type": "execute_result"
    }
   ],
   "source": [
    "1/0.00001"
   ]
  },
  {
   "cell_type": "code",
   "execution_count": 1,
   "id": "13313b1f",
   "metadata": {},
   "outputs": [],
   "source": [
    "from GA import GeneticAlgorithm\n",
    "import yaml\n",
    "from random import seed\n",
    "import numpy as np\n",
    "\n",
    "seed(10)\n",
    "np.random.seed(10)\n",
    "\n",
    "with open('config.yaml', 'r') as file:\n",
    "    kwargs = yaml.safe_load(file)\n",
    "\n",
    "GA = GeneticAlgorithm(**kwargs)"
   ]
  },
  {
   "cell_type": "code",
   "execution_count": 5,
   "id": "c0f4ef7f",
   "metadata": {},
   "outputs": [],
   "source": [
    "a = GA.roulette()"
   ]
  },
  {
   "cell_type": "code",
   "execution_count": 9,
   "id": "7621dd4c",
   "metadata": {},
   "outputs": [],
   "source": [
    "p = GA.get_crossing_alpha_beta()"
   ]
  },
  {
   "cell_type": "code",
   "execution_count": 10,
   "id": "10a0ab84",
   "metadata": {},
   "outputs": [
    {
     "name": "stdout",
     "output_type": "stream",
     "text": [
      "17.664821629128053\n",
      "5.386401153962215\n",
      "19.664225816204144\n",
      "19.501744810913436\n",
      "19.465093791868412\n",
      "15.342538439731047\n",
      "21.617939621399813\n",
      "19.87460933935601\n",
      "19.13016708548966\n",
      "19.858971826367362\n",
      "20.59374848559437\n",
      "20.41321646109169\n",
      "15.12169129478798\n",
      "15.838236292965023\n",
      "17.784828877393966\n",
      "14.163165397924853\n",
      "21.543120369868628\n",
      "20.287044443142385\n",
      "21.343596988450535\n",
      "18.555259816103884\n"
     ]
    }
   ],
   "source": [
    "for a in p:\n",
    "    print(a.get_fitness())"
   ]
  }
 ],
 "metadata": {
  "kernelspec": {
   "display_name": ".venv",
   "language": "python",
   "name": "python3"
  },
  "language_info": {
   "codemirror_mode": {
    "name": "ipython",
    "version": 3
   },
   "file_extension": ".py",
   "mimetype": "text/x-python",
   "name": "python",
   "nbconvert_exporter": "python",
   "pygments_lexer": "ipython3",
   "version": "3.12.3"
  }
 },
 "nbformat": 4,
 "nbformat_minor": 5
}
