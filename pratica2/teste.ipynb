{
 "cells": [
  {
   "cell_type": "code",
   "execution_count": 3,
   "id": "f87397ed",
   "metadata": {},
   "outputs": [],
   "source": [
    "from Individual import Individual"
   ]
  },
  {
   "cell_type": "code",
   "execution_count": 11,
   "id": "6674dc6b",
   "metadata": {},
   "outputs": [],
   "source": [
    "i = Individual([0.0, 0.0], **kwargs)"
   ]
  },
  {
   "cell_type": "code",
   "execution_count": 13,
   "id": "39fff903",
   "metadata": {},
   "outputs": [
    {
     "data": {
      "text/plain": [
       "0.0"
      ]
     },
     "execution_count": 13,
     "metadata": {},
     "output_type": "execute_result"
    }
   ],
   "source": [
    "round(i.get_fitness(), 4)"
   ]
  },
  {
   "cell_type": "code",
   "execution_count": 15,
   "id": "0d792926",
   "metadata": {},
   "outputs": [
    {
     "data": {
      "text/plain": [
       "99999.99999999999"
      ]
     },
     "execution_count": 15,
     "metadata": {},
     "output_type": "execute_result"
    }
   ],
   "source": [
    "1/0.00001"
   ]
  },
  {
   "cell_type": "code",
   "execution_count": 4,
   "id": "13313b1f",
   "metadata": {},
   "outputs": [],
   "source": [
    "from GA import GeneticAlgorithm\n",
    "import yaml\n",
    "from random import seed\n",
    "import numpy as np\n",
    "\n",
    "seed(10)\n",
    "np.random.seed(10)\n",
    "\n",
    "with open('config.yaml', 'r') as file:\n",
    "    kwargs = yaml.safe_load(file)\n",
    "\n",
    "GA = GeneticAlgorithm(**kwargs)"
   ]
  }
 ],
 "metadata": {
  "kernelspec": {
   "display_name": ".venv",
   "language": "python",
   "name": "python3"
  },
  "language_info": {
   "codemirror_mode": {
    "name": "ipython",
    "version": 3
   },
   "file_extension": ".py",
   "mimetype": "text/x-python",
   "name": "python",
   "nbconvert_exporter": "python",
   "pygments_lexer": "ipython3",
   "version": "3.12.3"
  }
 },
 "nbformat": 4,
 "nbformat_minor": 5
}
