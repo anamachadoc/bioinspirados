{
 "cells": [
  {
   "cell_type": "code",
   "execution_count": 1,
   "id": "ed7bd3dc",
   "metadata": {},
   "outputs": [],
   "source": [
    "path = 'input/teste'"
   ]
  },
  {
   "cell_type": "code",
   "execution_count": 2,
   "id": "eb3db75a",
   "metadata": {},
   "outputs": [],
   "source": [
    "with open(f'{path}/pxx_c.txt', 'r') as f:\n",
    "    capacity = int(f.readlines()[0])\n",
    "\n",
    "with open(f'{path}/pxx_p.txt', 'r') as f:\n",
    "    utility = [int(linha.strip()) for linha in f.readlines()]\n",
    "\n",
    "with open(f'{path}/pxx_w.txt', 'r') as f:\n",
    "    weights = [int(linha.strip()) for linha in f.readlines()]\n",
    "\n",
    "with open(f'{path}/pxx_s.txt', 'r') as f:\n",
    "    solution = [int(linha.strip()) for linha in f.readlines()]\n",
    "\n",
    "num_items = len(weights)"
   ]
  },
  {
   "cell_type": "code",
   "execution_count": 3,
   "id": "28b5d58e",
   "metadata": {},
   "outputs": [
    {
     "data": {
      "text/plain": [
       "10"
      ]
     },
     "execution_count": 3,
     "metadata": {},
     "output_type": "execute_result"
    }
   ],
   "source": [
    "num_items"
   ]
  },
  {
   "cell_type": "code",
   "execution_count": 4,
   "id": "0111ce87",
   "metadata": {},
   "outputs": [
    {
     "name": "stdout",
     "output_type": "stream",
     "text": [
      "0\n",
      "1\n",
      "2\n",
      "3\n",
      "4\n",
      "5\n",
      "6\n",
      "7\n",
      "8\n",
      "9\n"
     ]
    }
   ],
   "source": [
    "from Item import Item\n",
    "\n",
    "itens = [Item(i, weights[i], utility[i]) for i in range(num_items)]"
   ]
  },
  {
   "cell_type": "code",
   "execution_count": 5,
   "id": "9e459883",
   "metadata": {},
   "outputs": [
    {
     "name": "stdout",
     "output_type": "stream",
     "text": [
      "ITEM: <bound method Item.get_ID of <Item.Item object at 0x712010bdc9e0>>\n",
      "weight: 23 - utility: 92\n",
      "\n",
      "ITEM: <bound method Item.get_ID of <Item.Item object at 0x712010bdec60>>\n",
      "weight: 31 - utility: 57\n",
      "\n",
      "ITEM: <bound method Item.get_ID of <Item.Item object at 0x712010bdf230>>\n",
      "weight: 29 - utility: 49\n",
      "\n",
      "ITEM: <bound method Item.get_ID of <Item.Item object at 0x712010bdd580>>\n",
      "weight: 44 - utility: 68\n",
      "\n",
      "ITEM: <bound method Item.get_ID of <Item.Item object at 0x712010bde9f0>>\n",
      "weight: 53 - utility: 60\n",
      "\n",
      "ITEM: <bound method Item.get_ID of <Item.Item object at 0x712010bde870>>\n",
      "weight: 38 - utility: 43\n",
      "\n",
      "ITEM: <bound method Item.get_ID of <Item.Item object at 0x712010bdf1d0>>\n",
      "weight: 63 - utility: 67\n",
      "\n",
      "ITEM: <bound method Item.get_ID of <Item.Item object at 0x712019a322d0>>\n",
      "weight: 85 - utility: 84\n",
      "\n",
      "ITEM: <bound method Item.get_ID of <Item.Item object at 0x712010e697f0>>\n",
      "weight: 89 - utility: 87\n",
      "\n",
      "ITEM: <bound method Item.get_ID of <Item.Item object at 0x7120102044d0>>\n",
      "weight: 82 - utility: 72\n",
      "\n"
     ]
    }
   ],
   "source": [
    "for item in itens:\n",
    "    item.get_item()"
   ]
  },
  {
   "cell_type": "code",
   "execution_count": null,
   "id": "ff06759d",
   "metadata": {},
   "outputs": [],
   "source": [
    "weights"
   ]
  },
  {
   "cell_type": "code",
   "execution_count": null,
   "id": "17168ee6",
   "metadata": {},
   "outputs": [],
   "source": [
    "type(c)"
   ]
  }
 ],
 "metadata": {
  "kernelspec": {
   "display_name": "myenv",
   "language": "python",
   "name": "python3"
  },
  "language_info": {
   "codemirror_mode": {
    "name": "ipython",
    "version": 3
   },
   "file_extension": ".py",
   "mimetype": "text/x-python",
   "name": "python",
   "nbconvert_exporter": "python",
   "pygments_lexer": "ipython3",
   "version": "3.12.3"
  }
 },
 "nbformat": 4,
 "nbformat_minor": 5
}
