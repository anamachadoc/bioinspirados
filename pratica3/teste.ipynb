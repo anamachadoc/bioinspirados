{
 "cells": [
  {
   "cell_type": "code",
   "execution_count": 1,
   "id": "ed7bd3dc",
   "metadata": {},
   "outputs": [],
   "source": [
    "path = 'input/teste'"
   ]
  },
  {
   "cell_type": "code",
   "execution_count": 2,
   "id": "eb3db75a",
   "metadata": {},
   "outputs": [],
   "source": [
    "with open(f'{path}/pxx_c.txt', 'r') as f:\n",
    "    capacity = int(f.readlines()[0])\n",
    "\n",
    "with open(f'{path}/pxx_p.txt', 'r') as f:\n",
    "    utility = [int(linha.strip()) for linha in f.readlines()]\n",
    "\n",
    "with open(f'{path}/pxx_w.txt', 'r') as f:\n",
    "    weights = [int(linha.strip()) for linha in f.readlines()]\n",
    "\n",
    "with open(f'{path}/pxx_s.txt', 'r') as f:\n",
    "    solution = [int(linha.strip()) for linha in f.readlines()]\n",
    "\n",
    "num_items = len(weights)"
   ]
  },
  {
   "cell_type": "code",
   "execution_count": 3,
   "id": "28b5d58e",
   "metadata": {},
   "outputs": [
    {
     "data": {
      "text/plain": [
       "10"
      ]
     },
     "execution_count": 3,
     "metadata": {},
     "output_type": "execute_result"
    }
   ],
   "source": [
    "num_items"
   ]
  },
  {
   "cell_type": "code",
   "execution_count": 4,
   "id": "0111ce87",
   "metadata": {},
   "outputs": [],
   "source": [
    "from Item import Item\n",
    "\n",
    "itens = [Item(i, weights[i], utility[i]) for i in range(num_items)]"
   ]
  },
  {
   "cell_type": "code",
   "execution_count": 5,
   "id": "9e459883",
   "metadata": {},
   "outputs": [
    {
     "name": "stdout",
     "output_type": "stream",
     "text": [
      "ITEM: 0\n",
      "weight: 23 - utility: 92\n",
      "\n",
      "ITEM: 1\n",
      "weight: 31 - utility: 57\n",
      "\n",
      "ITEM: 2\n",
      "weight: 29 - utility: 49\n",
      "\n",
      "ITEM: 3\n",
      "weight: 44 - utility: 68\n",
      "\n",
      "ITEM: 4\n",
      "weight: 53 - utility: 60\n",
      "\n",
      "ITEM: 5\n",
      "weight: 38 - utility: 43\n",
      "\n",
      "ITEM: 6\n",
      "weight: 63 - utility: 67\n",
      "\n",
      "ITEM: 7\n",
      "weight: 85 - utility: 84\n",
      "\n",
      "ITEM: 8\n",
      "weight: 89 - utility: 87\n",
      "\n",
      "ITEM: 9\n",
      "weight: 82 - utility: 72\n",
      "\n"
     ]
    }
   ],
   "source": [
    "for item in itens:\n",
    "    item.get_item()"
   ]
  },
  {
   "cell_type": "code",
   "execution_count": 6,
   "id": "f461fd0e",
   "metadata": {},
   "outputs": [],
   "source": [
    "set_items = [1,1,1,0,0,0,0,0,0,1]"
   ]
  },
  {
   "cell_type": "code",
   "execution_count": 7,
   "id": "7d349142",
   "metadata": {},
   "outputs": [],
   "source": [
    "import yaml\n",
    "from Knapsack import Knapsack\n",
    "\n",
    "if __name__ == \"__main__\":\n",
    "    with open('config.yaml', 'r') as file:\n",
    "        kwargs = yaml.safe_load(file)\n",
    "    \n",
    "    kwargs['capacity'] = capacity\n",
    "    \n",
    "    GA = Knapsack(itens, set_items, **kwargs)"
   ]
  },
  {
   "cell_type": "code",
   "execution_count": 8,
   "id": "b91ec343",
   "metadata": {},
   "outputs": [
    {
     "data": {
      "text/plain": [
       "[0, 1, 2, 9]"
      ]
     },
     "execution_count": 8,
     "metadata": {},
     "output_type": "execute_result"
    }
   ],
   "source": [
    "GA.get_position_items()"
   ]
  },
  {
   "cell_type": "code",
   "execution_count": 9,
   "id": "9030916b",
   "metadata": {},
   "outputs": [
    {
     "name": "stdout",
     "output_type": "stream",
     "text": [
      "ITEM: 0\n",
      "weight: 23 - utility: 92\n",
      "\n",
      "ITEM: 1\n",
      "weight: 31 - utility: 57\n",
      "\n",
      "ITEM: 2\n",
      "weight: 29 - utility: 49\n",
      "\n",
      "ITEM: 9\n",
      "weight: 82 - utility: 72\n",
      "\n"
     ]
    }
   ],
   "source": [
    "GA.get_knapsack_items()"
   ]
  },
  {
   "cell_type": "code",
   "execution_count": 10,
   "id": "0e891480",
   "metadata": {},
   "outputs": [
    {
     "data": {
      "text/plain": [
       "165"
      ]
     },
     "execution_count": 10,
     "metadata": {},
     "output_type": "execute_result"
    }
   ],
   "source": [
    "GA.get_weight()"
   ]
  },
  {
   "cell_type": "code",
   "execution_count": 11,
   "id": "d1a4209b",
   "metadata": {},
   "outputs": [
    {
     "data": {
      "text/plain": [
       "-1080"
      ]
     },
     "execution_count": 11,
     "metadata": {},
     "output_type": "execute_result"
    }
   ],
   "source": [
    "GA.get_fitness()"
   ]
  }
 ],
 "metadata": {
  "kernelspec": {
   "display_name": "Python 3",
   "language": "python",
   "name": "python3"
  },
  "language_info": {
   "codemirror_mode": {
    "name": "ipython",
    "version": 3
   },
   "file_extension": ".py",
   "mimetype": "text/x-python",
   "name": "python",
   "nbconvert_exporter": "python",
   "pygments_lexer": "ipython3",
   "version": "3.10.12"
  }
 },
 "nbformat": 4,
 "nbformat_minor": 5
}
