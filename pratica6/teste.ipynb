{
 "cells": [
  {
   "cell_type": "code",
   "execution_count": 1,
   "id": "c669da90",
   "metadata": {},
   "outputs": [],
   "source": [
    "kwargs = {\n",
    "    'output_path': 'output/',\n",
    "    'x_limits': (-2, 2),\n",
    "    'v_limits': (5, 50),\n",
    "    'w': 0.5,\n",
    "    'c1': 0.2,\n",
    "    'c2': 0.8,\n",
    "    'num_dimensions': 3,\n",
    "    'num_pop': 5\n",
    "}"
   ]
  },
  {
   "cell_type": "code",
   "execution_count": 2,
   "id": "7db16b8e",
   "metadata": {},
   "outputs": [],
   "source": [
    "from ParticleSwarm import ParticleSwarm\n",
    "\n",
    "p = ParticleSwarm(**kwargs)"
   ]
  },
  {
   "cell_type": "code",
   "execution_count": 3,
   "id": "7be82b6c",
   "metadata": {},
   "outputs": [
    {
     "name": "stdout",
     "output_type": "stream",
     "text": [
      "[ 1.66760974 -0.20852134 -1.28526341] 6.194560881854848\n",
      "[-0.70417422 -0.75773449 -0.09394483] 3.759207797061159\n",
      "[-1.60090625 -1.44505792 -0.92447479] 6.713604601236312\n",
      "[ 0.49928943 -1.91186729  1.04990148] 5.96577438723202\n",
      "[ 0.0315457   1.04325017 -1.8505517 ] 4.741869667606096\n"
     ]
    }
   ],
   "source": [
    "pop = p.get_population()\n",
    "for i in pop:\n",
    "    print(i.get_position(), i.get_fitness())"
   ]
  }
 ],
 "metadata": {
  "kernelspec": {
   "display_name": "Python 3",
   "language": "python",
   "name": "python3"
  },
  "language_info": {
   "codemirror_mode": {
    "name": "ipython",
    "version": 3
   },
   "file_extension": ".py",
   "mimetype": "text/x-python",
   "name": "python",
   "nbconvert_exporter": "python",
   "pygments_lexer": "ipython3",
   "version": "3.10.12"
  }
 },
 "nbformat": 4,
 "nbformat_minor": 5
}
