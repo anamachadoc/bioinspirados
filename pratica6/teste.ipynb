{
 "cells": [
  {
   "cell_type": "code",
   "execution_count": 13,
   "id": "c669da90",
   "metadata": {},
   "outputs": [],
   "source": [
    "kwargs = {\n",
    "    'output_path': 'output/',\n",
    "    'x_limits': (-2, 2),\n",
    "    'v_limits': (5, 50),\n",
    "    'w': 0.5,\n",
    "    'c1': 0.2,\n",
    "    'c2': 0.8\n",
    "}"
   ]
  },
  {
   "cell_type": "code",
   "execution_count": 57,
   "id": "216b7edc",
   "metadata": {},
   "outputs": [
    {
     "data": {
      "text/plain": [
       "[30]"
      ]
     },
     "execution_count": 57,
     "metadata": {},
     "output_type": "execute_result"
    }
   ],
   "source": [
    "random.sample(range(kwargs['v_limits'][0], kwargs['v_limits'][1]), k=1)"
   ]
  },
  {
   "cell_type": "code",
   "execution_count": 38,
   "id": "92749fb9",
   "metadata": {},
   "outputs": [
    {
     "data": {
      "text/plain": [
       "range(5, 50)"
      ]
     },
     "execution_count": 38,
     "metadata": {},
     "output_type": "execute_result"
    }
   ],
   "source": [
    "range(kwargs['v_limits'][0], kwargs['v_limits'][1])"
   ]
  },
  {
   "cell_type": "code",
   "execution_count": 12,
   "id": "70da00ba",
   "metadata": {},
   "outputs": [
    {
     "name": "stdout",
     "output_type": "stream",
     "text": [
      "0.107088798687626 0.07517803796316103\n"
     ]
    }
   ],
   "source": [
    "import random\n",
    "r1, r2 = random.random(), random.random()\n",
    "print(r1, r2)"
   ]
  }
 ],
 "metadata": {
  "kernelspec": {
   "display_name": "myenv",
   "language": "python",
   "name": "python3"
  },
  "language_info": {
   "codemirror_mode": {
    "name": "ipython",
    "version": 3
   },
   "file_extension": ".py",
   "mimetype": "text/x-python",
   "name": "python",
   "nbconvert_exporter": "python",
   "pygments_lexer": "ipython3",
   "version": "3.12.3"
  }
 },
 "nbformat": 4,
 "nbformat_minor": 5
}
