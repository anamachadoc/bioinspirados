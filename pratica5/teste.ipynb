{
 "cells": [
  {
   "cell_type": "code",
   "execution_count": 1,
   "id": "b946f8a3",
   "metadata": {},
   "outputs": [
    {
     "data": {
      "text/plain": [
       "{0: {0: 0.0, 1: 3.61, 2: 5.1, 3: 7.21, 4: 8.0},\n",
       " 1: {0: 3.61, 1: 0.0, 2: 3.61, 3: 4.12, 4: 6.71},\n",
       " 2: {0: 5.1, 1: 3.61, 2: 0.0, 3: 3.16, 4: 3.16},\n",
       " 3: {0: 7.21, 1: 4.12, 2: 3.16, 3: 0.0, 4: 4.47},\n",
       " 4: {0: 8.0, 1: 6.71, 2: 3.16, 3: 4.47, 4: 0.0}}"
      ]
     },
     "execution_count": 1,
     "metadata": {},
     "output_type": "execute_result"
    }
   ],
   "source": [
    "import math\n",
    "\n",
    "# Coordenadas das cidades (id: (x, y))\n",
    "coordinates = {\n",
    "    0: (0, 0),\n",
    "    1: (2, 3),\n",
    "    2: (5, 1),\n",
    "    3: (6, 4),\n",
    "    4: (8, 0)\n",
    "}\n",
    "\n",
    "# Função para calcular distância euclidiana\n",
    "def euclidean(p1, p2):\n",
    "    return round(math.sqrt((p1[0] - p2[0])**2 + (p1[1] - p2[1])**2),2)\n",
    "\n",
    "# Matriz de distâncias em forma de dicionário de dicionários\n",
    "distances = {\n",
    "    i: {\n",
    "        j: euclidean(coordinates[i], coordinates[j]) if i != j else 0.0\n",
    "        for j in coordinates\n",
    "    }\n",
    "    for i in coordinates\n",
    "}\n",
    "distances"
   ]
  },
  {
   "cell_type": "code",
   "execution_count": 2,
   "id": "4a45351a",
   "metadata": {},
   "outputs": [],
   "source": [
    "# Valor inicial de feromônio (definido pelo usuário)\n",
    "initial_pheromone = 1\n",
    "\n",
    "# Matriz de feromônio como dicionário de dicionários\n",
    "pheromone = {\n",
    "    i: {\n",
    "        j: initial_pheromone if i != j else 0.0\n",
    "        for j in coordinates\n",
    "    }\n",
    "    for i in coordinates\n",
    "}\n"
   ]
  },
  {
   "cell_type": "code",
   "execution_count": 3,
   "id": "13ffa2f0",
   "metadata": {},
   "outputs": [
    {
     "data": {
      "text/plain": [
       "[0, 1, 2, 3, 4]"
      ]
     },
     "execution_count": 3,
     "metadata": {},
     "output_type": "execute_result"
    }
   ],
   "source": [
    "list(coordinates.keys())"
   ]
  },
  {
   "cell_type": "code",
   "execution_count": 4,
   "id": "b13a47e4",
   "metadata": {},
   "outputs": [],
   "source": [
    "config = {\n",
    "    'alpha':1,\n",
    "    'beta':5,\n",
    "    'distance_cities': distances,\n",
    "    'coordenates_cities': coordinates, \n",
    "    'n_cities': 5,\n",
    "    'output_path': 'output/',\n",
    "    'possible_cities': list(coordinates.keys()),\n",
    "    'refresh_rate': 0.1,\n",
    "    'evaporation_rate': 0.5,\n",
    "    'Q': 100,\n",
    "    'initial_pheromone': 1\n",
    "}"
   ]
  },
  {
   "cell_type": "code",
   "execution_count": 5,
   "id": "2b5781ac",
   "metadata": {},
   "outputs": [],
   "source": [
    "from Ant import Ant\n",
    "    \n",
    "a = Ant(0, **config)"
   ]
  },
  {
   "cell_type": "code",
   "execution_count": 6,
   "id": "0ebc9ac1",
   "metadata": {},
   "outputs": [],
   "source": [
    "a.new_path(pheromone)"
   ]
  },
  {
   "cell_type": "code",
   "execution_count": 7,
   "id": "1f39c5e2",
   "metadata": {},
   "outputs": [
    {
     "data": {
      "text/plain": [
       "[0, 1, 2, 3, 4, 0]"
      ]
     },
     "execution_count": 7,
     "metadata": {},
     "output_type": "execute_result"
    }
   ],
   "source": [
    "a.path.ordered_cities"
   ]
  },
  {
   "cell_type": "code",
   "execution_count": 8,
   "id": "93a39549",
   "metadata": {},
   "outputs": [
    {
     "data": {
      "text/plain": [
       "range(0, 5)"
      ]
     },
     "execution_count": 8,
     "metadata": {},
     "output_type": "execute_result"
    }
   ],
   "source": [
    "range(5)"
   ]
  },
  {
   "cell_type": "code",
   "execution_count": 9,
   "id": "8d470e10",
   "metadata": {},
   "outputs": [],
   "source": [
    "from AntColony import AntColony\n",
    "\n",
    "a = AntColony(**config)"
   ]
  },
  {
   "cell_type": "code",
   "execution_count": 10,
   "id": "ecc22675",
   "metadata": {},
   "outputs": [
    {
     "data": {
      "text/plain": [
       "<AntColony.AntColony at 0x79b23ceb8cd0>"
      ]
     },
     "execution_count": 10,
     "metadata": {},
     "output_type": "execute_result"
    }
   ],
   "source": [
    "a"
   ]
  },
  {
   "cell_type": "code",
   "execution_count": 11,
   "id": "420f8eeb",
   "metadata": {},
   "outputs": [
    {
     "name": "stdout",
     "output_type": "stream",
     "text": [
      "[1, 2, 3, 4]\n",
      "[1, 2, 3, 4]\n",
      "[1, 2, 3, 4]\n",
      "[1, 2, 3, 4]\n",
      "[1, 2, 3, 4]\n"
     ]
    }
   ],
   "source": [
    "for f in a.get_ants():\n",
    "    print(f.get_path())"
   ]
  },
  {
   "cell_type": "code",
   "execution_count": 12,
   "id": "e9bf54a1",
   "metadata": {},
   "outputs": [
    {
     "data": {
      "text/plain": [
       "{0: {0: 0.0, 1: 1, 2: 1, 3: 1, 4: 1},\n",
       " 1: {0: 1, 1: 0.0, 2: 1, 3: 1, 4: 1},\n",
       " 2: {0: 1, 1: 1, 2: 0.0, 3: 1, 4: 1},\n",
       " 3: {0: 1, 1: 1, 2: 1, 3: 0.0, 4: 1},\n",
       " 4: {0: 1, 1: 1, 2: 1, 3: 1, 4: 0.0}}"
      ]
     },
     "execution_count": 12,
     "metadata": {},
     "output_type": "execute_result"
    }
   ],
   "source": [
    "a.get_pheromone_matrix()"
   ]
  }
 ],
 "metadata": {
  "kernelspec": {
   "display_name": "Python 3",
   "language": "python",
   "name": "python3"
  },
  "language_info": {
   "codemirror_mode": {
    "name": "ipython",
    "version": 3
   },
   "file_extension": ".py",
   "mimetype": "text/x-python",
   "name": "python",
   "nbconvert_exporter": "python",
   "pygments_lexer": "ipython3",
   "version": "3.10.12"
  }
 },
 "nbformat": 4,
 "nbformat_minor": 5
}
