{
 "cells": [
  {
   "cell_type": "code",
   "execution_count": 1,
   "id": "dc8a4615",
   "metadata": {},
   "outputs": [],
   "source": [
    "from AntColony import AntColony"
   ]
  },
  {
   "cell_type": "code",
   "execution_count": 2,
   "id": "c9f99f65",
   "metadata": {},
   "outputs": [],
   "source": [
    "def get_infos(path):\n",
    "    \n",
    "    distance = {}\n",
    "    row_index = 1  \n",
    "    with open(f'{path}_dist.txt', 'r') as file:\n",
    "        for line in file:\n",
    "            line = line.strip()\n",
    "            if not line or line.startswith('#'):\n",
    "                continue\n",
    "            numbers = list(map(int, line.split()))\n",
    "            distance[row_index] = {}\n",
    "            for col_index, num in enumerate(numbers, start=1): \n",
    "                distance[row_index][col_index] = num\n",
    "            row_index += 1\n",
    "            \n",
    "    with open(f'{path}_xy.txt', 'r') as f:\n",
    "        lines = f.readlines()\n",
    "    xy = {}\n",
    "    for i, line in enumerate(lines, start=1):\n",
    "        if line.strip():\n",
    "            coords = line.split()\n",
    "            x = float(coords[0])\n",
    "            y = float(coords[1])\n",
    "            xy[i] = (x, y)\n",
    "\n",
    "    return distance, xy\n"
   ]
  },
  {
   "cell_type": "code",
   "execution_count": null,
   "id": "dcf573eb",
   "metadata": {},
   "outputs": [],
   "source": [
    "config['distance_cities'], config['coordenates_cities'] = get_infos(config['input_path'])\n",
    "config['possible_cities'] = list(config['distance_cities'].keys())"
   ]
  },
  {
   "cell_type": "code",
   "execution_count": 4,
   "id": "da652619",
   "metadata": {},
   "outputs": [
    {
     "data": {
      "text/plain": [
       "[1, 2, 3, 4, 5, 6, 7, 8, 9, 10, 11, 12, 13, 14, 15]"
      ]
     },
     "execution_count": 4,
     "metadata": {},
     "output_type": "execute_result"
    }
   ],
   "source": [
    "config['possible_cities']"
   ]
  },
  {
   "cell_type": "code",
   "execution_count": 5,
   "id": "09e1d15d",
   "metadata": {},
   "outputs": [],
   "source": [
    "colony = AntColony(**config)"
   ]
  },
  {
   "cell_type": "code",
   "execution_count": 6,
   "id": "57139702",
   "metadata": {},
   "outputs": [
    {
     "data": {
      "text/plain": [
       "dict_keys([1, 2, 3, 4, 5, 6, 7, 8, 9, 10, 11, 12, 13, 14, 15])"
      ]
     },
     "execution_count": 6,
     "metadata": {},
     "output_type": "execute_result"
    }
   ],
   "source": [
    "colony.pheromone_matrix.keys()"
   ]
  },
  {
   "cell_type": "code",
   "execution_count": 7,
   "id": "aa652afd",
   "metadata": {},
   "outputs": [
    {
     "name": "stdout",
     "output_type": "stream",
     "text": [
      "Iteração 1: Melhor distância = 291\n",
      "Iteração 2: Melhor distância = 291\n",
      "Iteração 3: Melhor distância = 415\n",
      "Iteração 4: Melhor distância = 295\n",
      "Iteração 5: Melhor distância = 291\n",
      "Iteração 6: Melhor distância = 291\n",
      "Iteração 7: Melhor distância = 291\n",
      "Iteração 8: Melhor distância = 291\n",
      "Iteração 9: Melhor distância = 291\n",
      "Iteração 10: Melhor distância = 291\n",
      "Iteração 11: Melhor distância = 291\n",
      "Iteração 12: Melhor distância = 291\n",
      "Iteração 13: Melhor distância = 291\n",
      "Iteração 14: Melhor distância = 291\n",
      "Iteração 15: Melhor distância = 291\n",
      "Iteração 16: Melhor distância = 291\n",
      "Iteração 17: Melhor distância = 291\n",
      "Iteração 18: Melhor distância = 291\n",
      "Iteração 19: Melhor distância = 291\n",
      "Iteração 20: Melhor distância = 291\n",
      "Iteração 21: Melhor distância = 291\n",
      "Iteração 22: Melhor distância = 291\n",
      "Iteração 23: Melhor distância = 291\n",
      "Iteração 24: Melhor distância = 291\n",
      "Iteração 25: Melhor distância = 291\n",
      "Iteração 26: Melhor distância = 291\n",
      "Iteração 27: Melhor distância = 291\n",
      "Iteração 28: Melhor distância = 291\n",
      "Iteração 29: Melhor distância = 291\n",
      "Iteração 30: Melhor distância = 291\n",
      "Iteração 31: Melhor distância = 291\n",
      "Iteração 32: Melhor distância = 291\n",
      "Iteração 33: Melhor distância = 291\n",
      "Iteração 34: Melhor distância = 291\n",
      "Iteração 35: Melhor distância = 291\n",
      "Iteração 36: Melhor distância = 291\n",
      "Iteração 37: Melhor distância = 291\n",
      "Iteração 38: Melhor distância = 291\n",
      "Iteração 39: Melhor distância = 291\n",
      "Iteração 40: Melhor distância = 291\n",
      "Iteração 41: Melhor distância = 291\n",
      "Iteração 42: Melhor distância = 291\n",
      "Iteração 43: Melhor distância = 291\n",
      "Iteração 44: Melhor distância = 291\n",
      "Iteração 45: Melhor distância = 291\n",
      "Iteração 46: Melhor distância = 291\n",
      "Iteração 47: Melhor distância = 291\n",
      "Iteração 48: Melhor distância = 291\n",
      "Iteração 49: Melhor distância = 291\n",
      "Iteração 50: Melhor distância = 291\n",
      "Iteração 51: Melhor distância = 291\n",
      "Iteração 52: Melhor distância = 291\n",
      "Iteração 53: Melhor distância = 291\n",
      "Iteração 54: Melhor distância = 291\n",
      "Iteração 55: Melhor distância = 291\n",
      "Iteração 56: Melhor distância = 291\n",
      "Iteração 57: Melhor distância = 291\n",
      "Iteração 58: Melhor distância = 291\n",
      "Iteração 59: Melhor distância = 291\n",
      "Iteração 60: Melhor distância = 291\n",
      "Iteração 61: Melhor distância = 291\n",
      "Iteração 62: Melhor distância = 291\n",
      "Iteração 63: Melhor distância = 291\n",
      "Iteração 64: Melhor distância = 291\n",
      "Iteração 65: Melhor distância = 291\n",
      "Iteração 66: Melhor distância = 291\n",
      "Iteração 67: Melhor distância = 291\n",
      "Iteração 68: Melhor distância = 291\n",
      "Iteração 69: Melhor distância = 291\n",
      "Iteração 70: Melhor distância = 291\n",
      "Iteração 71: Melhor distância = 291\n",
      "Iteração 72: Melhor distância = 291\n",
      "Iteração 73: Melhor distância = 291\n",
      "Iteração 74: Melhor distância = 291\n",
      "Iteração 75: Melhor distância = 291\n",
      "Iteração 76: Melhor distância = 291\n",
      "Iteração 77: Melhor distância = 291\n",
      "Iteração 78: Melhor distância = 291\n",
      "Iteração 79: Melhor distância = 291\n",
      "Iteração 80: Melhor distância = 291\n",
      "Iteração 81: Melhor distância = 291\n",
      "Iteração 82: Melhor distância = 291\n",
      "Iteração 83: Melhor distância = 291\n",
      "Iteração 84: Melhor distância = 291\n",
      "Iteração 85: Melhor distância = 291\n",
      "Iteração 86: Melhor distância = 291\n",
      "Iteração 87: Melhor distância = 291\n",
      "Iteração 88: Melhor distância = 291\n",
      "Iteração 89: Melhor distância = 291\n",
      "Iteração 90: Melhor distância = 291\n",
      "Iteração 91: Melhor distância = 291\n",
      "Iteração 92: Melhor distância = 291\n",
      "Iteração 93: Melhor distância = 291\n",
      "Iteração 94: Melhor distância = 291\n",
      "Iteração 95: Melhor distância = 291\n",
      "Iteração 96: Melhor distância = 291\n",
      "Iteração 97: Melhor distância = 291\n",
      "Iteração 98: Melhor distância = 291\n",
      "Iteração 99: Melhor distância = 291\n",
      "Iteração 100: Melhor distância = 291\n"
     ]
    }
   ],
   "source": [
    "colony.run()"
   ]
  },
  {
   "cell_type": "code",
   "execution_count": 8,
   "id": "9063ab96",
   "metadata": {},
   "outputs": [
    {
     "data": {
      "text/plain": [
       "<Ant.Ant at 0x75432a416890>"
      ]
     },
     "execution_count": 8,
     "metadata": {},
     "output_type": "execute_result"
    }
   ],
   "source": [
    "colony.ants[0]"
   ]
  }
 ],
 "metadata": {
  "kernelspec": {
   "display_name": "meu_ambiente",
   "language": "python",
   "name": "python3"
  },
  "language_info": {
   "codemirror_mode": {
    "name": "ipython",
    "version": 3
   },
   "file_extension": ".py",
   "mimetype": "text/x-python",
   "name": "python",
   "nbconvert_exporter": "python",
   "pygments_lexer": "ipython3",
   "version": "3.10.12"
  }
 },
 "nbformat": 4,
 "nbformat_minor": 5
}
